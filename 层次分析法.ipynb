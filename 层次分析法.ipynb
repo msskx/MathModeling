{
  "nbformat": 4,
  "nbformat_minor": 0,
  "metadata": {
    "colab": {
      "name": "层次分析法.ipynb",
      "provenance": [],
      "authorship_tag": "ABX9TyMB1M8mODCOngTS0SrRthIB",
      "include_colab_link": true
    },
    "kernelspec": {
      "name": "python3",
      "display_name": "Python 3"
    },
    "language_info": {
      "name": "python"
    }
  },
  "cells": [
    {
      "cell_type": "markdown",
      "metadata": {
        "id": "view-in-github",
        "colab_type": "text"
      },
      "source": [
        "<a href=\"https://colab.research.google.com/github/msskx/MathModeling/blob/main/%E5%B1%82%E6%AC%A1%E5%88%86%E6%9E%90%E6%B3%95.ipynb\" target=\"_parent\"><img src=\"https://colab.research.google.com/assets/colab-badge.svg\" alt=\"Open In Colab\"/></a>"
      ]
    },
    {
      "cell_type": "markdown",
      "source": [
        "**步骤：**\n",
        "\n",
        "找文献资料对评价指标进行分析\n",
        "\n",
        "两两比较 $A/B=3 , B/A=1/3$\n",
        "得到对比表（专家来填）\n",
        "\n",
        "得到，判断矩阵\n",
        "\n",
        "$a_{ij}$表示的意义是"
      ],
      "metadata": {
        "id": "OFIel6JhW-Kj"
      }
    },
    {
      "cell_type": "code",
      "execution_count": null,
      "metadata": {
        "id": "PvRZQtuqW5m0"
      },
      "outputs": [],
      "source": []
    }
  ]
}