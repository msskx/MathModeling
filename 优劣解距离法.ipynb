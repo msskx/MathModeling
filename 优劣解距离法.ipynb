{
  "nbformat": 4,
  "nbformat_minor": 0,
  "metadata": {
    "colab": {
      "name": "优劣解距离法.ipynb",
      "provenance": [],
      "collapsed_sections": [],
      "mount_file_id": "14KveQntuGYsN7KG47iLL48puLcRB4syN",
      "authorship_tag": "ABX9TyM/nHVGxX780owGYV4cE6fu",
      "include_colab_link": true
    },
    "kernelspec": {
      "name": "python3",
      "display_name": "Python 3"
    },
    "language_info": {
      "name": "python"
    },
    "accelerator": "TPU",
    "gpuClass": "standard"
  },
  "cells": [
    {
      "cell_type": "markdown",
      "metadata": {
        "id": "view-in-github",
        "colab_type": "text"
      },
      "source": [
        "<a href=\"https://colab.research.google.com/github/msskx/MathModeling/blob/main/%E4%BC%98%E5%8A%A3%E8%A7%A3%E8%B7%9D%E7%A6%BB%E6%B3%95.ipynb\" target=\"_parent\"><img src=\"https://colab.research.google.com/assets/colab-badge.svg\" alt=\"Open In Colab\"/></a>"
      ]
    },
    {
      "cell_type": "code",
      "execution_count": 21,
      "metadata": {
        "id": "Be1KqoXfZmcv"
      },
      "outputs": [],
      "source": [
        "import pandas as pd\n",
        "import numpy as np"
      ]
    },
    {
      "cell_type": "code",
      "source": [
        "data=pd.read_excel('/content/drive/MyDrive/数学建模/优劣解距离法Topsis/20条河流的水质情况数据.xlsx')"
      ],
      "metadata": {
        "id": "U4PVVGXEZ1io"
      },
      "execution_count": 2,
      "outputs": []
    },
    {
      "cell_type": "code",
      "source": [
        "data.columns"
      ],
      "metadata": {
        "colab": {
          "base_uri": "https://localhost:8080/"
        },
        "id": "2wgi-27WaUUq",
        "outputId": "e6056651-07a9-447f-b151-f7e6b437b1e3"
      },
      "execution_count": 4,
      "outputs": [
        {
          "output_type": "execute_result",
          "data": {
            "text/plain": [
              "Index(['河流', '含氧量（ppm)', 'PH值', '细菌总数(个/mL)', '植物性营养物量（ppm)'], dtype='object')"
            ]
          },
          "metadata": {},
          "execution_count": 4
        }
      ]
    },
    {
      "cell_type": "code",
      "source": [
        "type(data)"
      ],
      "metadata": {
        "colab": {
          "base_uri": "https://localhost:8080/"
        },
        "id": "NSFQVYG_ae-N",
        "outputId": "e959e3b7-0741-4c35-f242-29bcbb595efe"
      },
      "execution_count": 7,
      "outputs": [
        {
          "output_type": "execute_result",
          "data": {
            "text/plain": [
              "pandas.core.frame.DataFrame"
            ]
          },
          "metadata": {},
          "execution_count": 7
        }
      ]
    },
    {
      "cell_type": "code",
      "source": [
        "arr=np.array(data.iloc[:,1:5])\n"
      ],
      "metadata": {
        "id": "6i0v7z6NaVlF"
      },
      "execution_count": 53,
      "outputs": []
    },
    {
      "cell_type": "code",
      "source": [
        "###极小型转化为极大型\n",
        "def minToMax(arr):\n",
        "  maxNum=max(arr)\n",
        "  for i in range(len(arr)):\n",
        "    arr[i]=maxNum-arr[i]\n",
        "  return arr"
      ],
      "metadata": {
        "id": "Y4An3OxSygsB"
      },
      "execution_count": 44,
      "outputs": []
    },
    {
      "cell_type": "code",
      "source": [
        "###区间型转换为极大型\n",
        "\n",
        "def cellToMax(arr):\n",
        "  pass\n"
      ],
      "metadata": {
        "id": "zz0afJiJz7ZI"
      },
      "execution_count": null,
      "outputs": []
    },
    {
      "cell_type": "code",
      "source": [
        "\n",
        "\n",
        "st=minToMax(arr[:,1])"
      ],
      "metadata": {
        "id": "4FaZuFj4xXFu"
      },
      "execution_count": 55,
      "outputs": []
    },
    {
      "cell_type": "code",
      "source": [
        "# 按列表a中元素的值进行排序，并返回元素对应索引序列\n",
        "a = pd.DataFrame(data['含氧量（ppm)'])"
      ],
      "metadata": {
        "id": "c7y6rJt306Pf"
      },
      "execution_count": 75,
      "outputs": []
    },
    {
      "cell_type": "code",
      "source": [
        ""
      ],
      "metadata": {
        "colab": {
          "base_uri": "https://localhost:8080/",
          "height": 36
        },
        "id": "mIs-CgyP701Q",
        "outputId": "5d58249a-8e3c-4e1a-ae20-992acf0cfeb5"
      },
      "execution_count": 81,
      "outputs": [
        {
          "output_type": "execute_result",
          "data": {
            "text/plain": [
              "'含氧量（ppm)'"
            ],
            "application/vnd.google.colaboratory.intrinsic+json": {
              "type": "string"
            }
          },
          "metadata": {},
          "execution_count": 81
        }
      ]
    },
    {
      "cell_type": "code",
      "source": [
        "a['id']=a.index+1"
      ],
      "metadata": {
        "id": "JOkD42iz6JAN"
      },
      "execution_count": 68,
      "outputs": []
    },
    {
      "cell_type": "code",
      "source": [
        "def sortWithIndex(arr):\n",
        "  data=pd.DataFrame(arr)\n",
        "  # data['id']=data.index+1\n",
        "  res=data.sort_values(by=0 , ascending=False)\n",
        "  print(res)"
      ],
      "metadata": {
        "id": "P55b28ZF6YUG"
      },
      "execution_count": 99,
      "outputs": []
    },
    {
      "cell_type": "code",
      "source": [
        "sortWithIndex(st)"
      ],
      "metadata": {
        "colab": {
          "base_uri": "https://localhost:8080/"
        },
        "id": "bfmJR0dM8RP4",
        "outputId": "078fe90b-6fd2-4021-8eb6-493534539c32"
      },
      "execution_count": 100,
      "outputs": [
        {
          "output_type": "stream",
          "name": "stdout",
          "text": [
            "       0\n",
            "13  2.86\n",
            "15  2.27\n",
            "19  2.15\n",
            "2   2.10\n",
            "14  2.01\n",
            "4   1.91\n",
            "0   1.82\n",
            "5   1.64\n",
            "6   1.62\n",
            "7   1.60\n",
            "3   1.36\n",
            "9   1.14\n",
            "18  1.14\n",
            "11  1.13\n",
            "10  0.88\n",
            "16  0.83\n",
            "8   0.79\n",
            "1   0.55\n",
            "12  0.17\n",
            "17  0.00\n"
          ]
        }
      ]
    },
    {
      "cell_type": "code",
      "source": [
        ""
      ],
      "metadata": {
        "id": "ES2igmH08WAI"
      },
      "execution_count": null,
      "outputs": []
    }
  ]
}